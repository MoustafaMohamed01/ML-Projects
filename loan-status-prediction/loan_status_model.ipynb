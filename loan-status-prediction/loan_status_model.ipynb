{
 "cells": [
  {
   "cell_type": "code",
   "execution_count": null,
   "id": "96db6dbe-55ed-4444-9a4f-54f9e94e29fe",
   "metadata": {},
   "outputs": [],
   "source": [
    "import pandas as pd\n",
    "import numpy as np\n",
    "import seaborn as sns\n",
    "from sklearn.model_selection import train_test_split\n",
    "from sklearn import svm\n",
    "from sklearn.metrics import accuracy_score\n",
    "from sklearn import svm\n",
    "import matplotlib.pyplot as plt\n",
    "from sklearn.preprocessing import LabelEncoder"
   ]
  },
  {
   "cell_type": "code",
   "execution_count": null,
   "id": "c78edb31-0596-42e6-9178-8c49c01689ef",
   "metadata": {},
   "outputs": [],
   "source": [
    "df = pd.read_csv('dataset.csv')"
   ]
  },
  {
   "cell_type": "code",
   "execution_count": null,
   "id": "f1e65a86-1bb2-4e33-9219-f0c741ec525e",
   "metadata": {},
   "outputs": [],
   "source": [
    "df.head()"
   ]
  },
  {
   "cell_type": "code",
   "execution_count": null,
   "id": "32a6adb9-2366-4918-aed1-40170fc1ad59",
   "metadata": {},
   "outputs": [],
   "source": [
    "df.shape"
   ]
  },
  {
   "cell_type": "code",
   "execution_count": null,
   "id": "57194db6-9bcd-49a0-bf5a-4cf81692692e",
   "metadata": {},
   "outputs": [],
   "source": [
    "df.info()"
   ]
  },
  {
   "cell_type": "code",
   "execution_count": null,
   "id": "a1cb8ede-1724-4990-a8fb-05094239f5f2",
   "metadata": {},
   "outputs": [],
   "source": [
    "df.isnull().sum()"
   ]
  },
  {
   "cell_type": "code",
   "execution_count": null,
   "id": "343cac85-d5c9-4c28-b4c8-104457594a67",
   "metadata": {},
   "outputs": [],
   "source": [
    "df = df.dropna()"
   ]
  },
  {
   "cell_type": "code",
   "execution_count": null,
   "id": "673aeeca-8c1c-4480-b220-25262b92983f",
   "metadata": {},
   "outputs": [],
   "source": [
    "df = df.drop(columns=['Loan_ID'])"
   ]
  },
  {
   "cell_type": "code",
   "execution_count": null,
   "id": "746b93c7-5701-4a39-b0b6-3d6e78d54d0c",
   "metadata": {},
   "outputs": [],
   "source": [
    "df['Dependents'] = df['Dependents'].replace('3+', 4).astype(int)"
   ]
  },
  {
   "cell_type": "code",
   "execution_count": null,
   "id": "57a9c554-3ad3-432c-bba6-4a520905cb72",
   "metadata": {},
   "outputs": [],
   "source": [
    "binary_cols = ['Gender', 'Married', 'Self_Employed', 'Loan_Status']"
   ]
  },
  {
   "cell_type": "code",
   "execution_count": null,
   "id": "bb5e31d4-bddb-4487-8d29-03e37291fee3",
   "metadata": {},
   "outputs": [],
   "source": [
    "le = LabelEncoder()\n",
    "for col in binary_cols:\n",
    "    df[col] = le.fit_transform(df[col])"
   ]
  },
  {
   "cell_type": "code",
   "execution_count": null,
   "id": "d307f7bf-5e95-4b71-a71a-faa7d911ecaa",
   "metadata": {},
   "outputs": [],
   "source": [
    "df = pd.get_dummies(df, columns=['Education', 'Property_Area'], drop_first=True)"
   ]
  },
  {
   "cell_type": "code",
   "execution_count": null,
   "id": "1c61afc5-eaad-4885-8571-86daebcb43cc",
   "metadata": {},
   "outputs": [],
   "source": [
    "plt.style.use('dark_background')"
   ]
  },
  {
   "cell_type": "code",
   "execution_count": null,
   "id": "9340fb24-666e-47e2-a423-f44bf9f78b37",
   "metadata": {},
   "outputs": [],
   "source": [
    "plt.figure(figsize=(8, 5))\n",
    "ax = sns.countplot(data=df, x='Loan_Status', edgecolor='white', linewidth=2)\n",
    "plt.title('Loan Status Distribution', fontsize=16, weight='bold')\n",
    "plt.xlabel('Loan Status', fontsize=12)\n",
    "plt.ylabel('Count', fontsize=12)\n",
    "for p in ax.patches:\n",
    "    ax.annotate(f'{p.get_height()}', \n",
    "                (p.get_x() + p.get_width() / 2., p.get_height() + 2), \n",
    "                ha='center', color='white', fontsize=10)\n",
    "plt.tight_layout()\n",
    "plt.savefig('graphs/loan_status_distribution.png', dpi=300, facecolor='black')\n",
    "plt.show()"
   ]
  },
  {
   "cell_type": "code",
   "execution_count": null,
   "id": "e624f685-71e3-4f9d-b7b4-f0ca1ae22170",
   "metadata": {},
   "outputs": [],
   "source": [
    "plt.figure(figsize=(8, 5))\n",
    "ax = sns.countplot(data=df, x='Married', hue='Loan_Status', edgecolor='white', linewidth=1.5)\n",
    "plt.title('Loan Status by Marital Status', fontsize=16, weight='bold')\n",
    "plt.xlabel('Marital Status', fontsize=12)\n",
    "plt.ylabel('Count', fontsize=12)\n",
    "plt.legend(title='Loan Status', loc='upper right')\n",
    "plt.tight_layout()\n",
    "plt.savefig('graphs/loan_status_by_married.png', dpi=300, facecolor='black')\n",
    "plt.show()"
   ]
  },
  {
   "cell_type": "code",
   "execution_count": null,
   "id": "4cf36eb4-f09d-42c1-94a4-b5f0891453e6",
   "metadata": {},
   "outputs": [],
   "source": [
    "print(df.columns)"
   ]
  },
  {
   "cell_type": "code",
   "execution_count": null,
   "id": "0ee3325e-8697-4604-93dc-bdfd324f6bb2",
   "metadata": {},
   "outputs": [],
   "source": [
    "def decode_property_area(row):\n",
    "    if row['Property_Area_Semiurban'] == 1:\n",
    "        return 'Semiurban'\n",
    "    elif row['Property_Area_Urban'] == 1:\n",
    "        return 'Urban'\n",
    "    else:\n",
    "        return 'Rural'"
   ]
  },
  {
   "cell_type": "code",
   "execution_count": null,
   "id": "ad5a1127-cc4f-4596-bb9d-9dd5aea24599",
   "metadata": {},
   "outputs": [],
   "source": [
    "df_new = df.copy()\n",
    "df_new['Property_Area'] = df_new.apply(decode_property_area, axis=1)"
   ]
  },
  {
   "cell_type": "code",
   "execution_count": null,
   "id": "ea37fc3a-db6c-4012-8235-34ce630b1996",
   "metadata": {},
   "outputs": [],
   "source": [
    "plt.figure(figsize=(8, 5))\n",
    "ax = sns.countplot(data=df_new, x='Property_Area', hue='Loan_Status', edgecolor='white', linewidth=1.5)\n",
    "plt.title('Loan Status by Property Area', fontsize=16, weight='bold')\n",
    "plt.xlabel('Property Area', fontsize=12)\n",
    "plt.ylabel('Count', fontsize=12)\n",
    "plt.legend(title='Loan Status', loc='upper right')\n",
    "plt.tight_layout()\n",
    "plt.savefig('graphs/loan_status_by_property_area.png', dpi=300, facecolor='black')\n",
    "plt.show()"
   ]
  },
  {
   "cell_type": "code",
   "execution_count": null,
   "id": "d9d93a9d-3cc9-4b92-affb-649637b22a73",
   "metadata": {},
   "outputs": [],
   "source": [
    "plt.figure(figsize=(8, 5))\n",
    "ax = sns.histplot(data=df, x='ApplicantIncome', kde=True, color='#5ab4ac')\n",
    "plt.title('Applicant Income Distribution', fontsize=16, weight='bold')\n",
    "plt.xlabel('Applicant Income', fontsize=12)\n",
    "plt.ylabel('Frequency', fontsize=12)\n",
    "plt.tight_layout()\n",
    "plt.savefig('graphs/applicant_income_distribution.png', dpi=300, facecolor='black')\n",
    "plt.show()"
   ]
  },
  {
   "cell_type": "code",
   "execution_count": null,
   "id": "4cdd8f2c-2d9f-4a73-a0c7-50426d4bc95e",
   "metadata": {},
   "outputs": [],
   "source": [
    "plt.figure(figsize=(15, 10))\n",
    "corr = df.corr(numeric_only=True)\n",
    "ax = sns.heatmap(corr, annot=True, cmap='coolwarm', linewidths=0.5, linecolor='white', square=True)\n",
    "plt.title('Feature Correlation Heatmap', fontsize=16, weight='bold')\n",
    "plt.tight_layout()\n",
    "plt.savefig('graphs/feature_correlation_heatmap.png', dpi=300, facecolor='black')\n",
    "plt.show()"
   ]
  },
  {
   "cell_type": "code",
   "execution_count": null,
   "id": "6fe8be52-40cf-4d6e-9fda-783168a1d626",
   "metadata": {},
   "outputs": [],
   "source": [
    "X = df.drop(columns=['Loan_Status'])\n",
    "y = df['Loan_Status']"
   ]
  },
  {
   "cell_type": "code",
   "execution_count": null,
   "id": "4d32fb13-8e8a-40cf-ab67-ad23646d83c1",
   "metadata": {},
   "outputs": [],
   "source": [
    "X_train, X_test, y_train, y_test = train_test_split(X, y, test_size=0.1, stratify=y, random_state=2)"
   ]
  },
  {
   "cell_type": "code",
   "execution_count": null,
   "id": "183deeb7-0737-47d5-85ef-1b65da3d1910",
   "metadata": {},
   "outputs": [],
   "source": [
    "classifier = svm.SVC(kernel='linear')"
   ]
  },
  {
   "cell_type": "code",
   "execution_count": null,
   "id": "1436e3ec-9a9b-4ff2-a2c2-f75074a9dc05",
   "metadata": {},
   "outputs": [],
   "source": [
    "classifier.fit(X_train, y_train)"
   ]
  },
  {
   "cell_type": "code",
   "execution_count": null,
   "id": "8f493365-527e-4159-90b1-d82e3f690b29",
   "metadata": {},
   "outputs": [],
   "source": [
    "X_train_prediction = classifier.predict(X_train)"
   ]
  },
  {
   "cell_type": "code",
   "execution_count": null,
   "id": "b05f45ee-49b9-4869-b66e-2796b58f11af",
   "metadata": {},
   "outputs": [],
   "source": [
    "training_accuracy = accuracy_score(X_train_prediction, y_train)"
   ]
  },
  {
   "cell_type": "code",
   "execution_count": null,
   "id": "0be899d5-5284-44f9-ad7c-6ef5ad196a1d",
   "metadata": {},
   "outputs": [],
   "source": [
    "training_accuracy"
   ]
  },
  {
   "cell_type": "code",
   "execution_count": null,
   "id": "83c0afe0-a543-4e76-9cbd-ed4e1fb8e1f4",
   "metadata": {},
   "outputs": [],
   "source": [
    "X_test_prediction = classifier.predict(X_test)"
   ]
  },
  {
   "cell_type": "code",
   "execution_count": null,
   "id": "3c5958f1-79d0-4576-9519-645aa1271da8",
   "metadata": {},
   "outputs": [],
   "source": [
    "test_accuracy = accuracy_score(X_test_prediction, y_test)"
   ]
  },
  {
   "cell_type": "code",
   "execution_count": null,
   "id": "ed322d31-5229-497f-8bd0-3ebf50b738d9",
   "metadata": {},
   "outputs": [],
   "source": [
    "test_accuracy"
   ]
  },
  {
   "cell_type": "code",
   "execution_count": null,
   "id": "cb62266d-aed1-4875-bebe-232443ca4f17",
   "metadata": {},
   "outputs": [],
   "source": []
  }
 ],
 "metadata": {
  "kernelspec": {
   "display_name": "Python 3 (ipykernel)",
   "language": "python",
   "name": "python3"
  },
  "language_info": {
   "codemirror_mode": {
    "name": "ipython",
    "version": 3
   },
   "file_extension": ".py",
   "mimetype": "text/x-python",
   "name": "python",
   "nbconvert_exporter": "python",
   "pygments_lexer": "ipython3",
   "version": "3.12.3"
  }
 },
 "nbformat": 4,
 "nbformat_minor": 5
}
