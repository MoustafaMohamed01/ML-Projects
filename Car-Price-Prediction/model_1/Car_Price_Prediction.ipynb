{
 "cells": [
  {
   "cell_type": "code",
   "execution_count": null,
   "id": "d16c8b79-a8c4-42a1-a315-5f3be63538aa",
   "metadata": {},
   "outputs": [],
   "source": [
    "import numpy as np\n",
    "import pandas as pd\n"
   ]
  },
  {
   "cell_type": "code",
   "execution_count": null,
   "id": "89fc164d-db1a-4ac6-803f-ab0a01830d26",
   "metadata": {},
   "outputs": [],
   "source": [
    "df = pd.read_csv(\"quikr_car.csv\")\n",
    "df.head()"
   ]
  },
  {
   "cell_type": "code",
   "execution_count": null,
   "id": "191472ae-08ea-48ce-880e-a9267b19cf06",
   "metadata": {},
   "outputs": [],
   "source": [
    "df.info()"
   ]
  },
  {
   "cell_type": "code",
   "execution_count": null,
   "id": "d71fb644-5b57-4ebf-8c64-9e64a8d2cbfc",
   "metadata": {
    "scrolled": true
   },
   "outputs": [],
   "source": [
    "df.isnull().sum()"
   ]
  },
  {
   "cell_type": "code",
   "execution_count": null,
   "id": "9f180302-62fb-44fd-bae8-76b4d7f052d2",
   "metadata": {},
   "outputs": [],
   "source": [
    "df.columns"
   ]
  },
  {
   "cell_type": "code",
   "execution_count": null,
   "id": "f4a2cf21-8642-4852-8088-742fc6de6fd7",
   "metadata": {},
   "outputs": [],
   "source": [
    "df = df[df['year'].str.isnumeric()]"
   ]
  },
  {
   "cell_type": "code",
   "execution_count": null,
   "id": "e9e48b75-926a-497c-8920-07ed98efcff8",
   "metadata": {},
   "outputs": [],
   "source": [
    "df['year'] = df['year'].astype(int)"
   ]
  },
  {
   "cell_type": "code",
   "execution_count": null,
   "id": "af1d492d-d842-438b-aa7a-6de50b5fdfac",
   "metadata": {},
   "outputs": [],
   "source": [
    "df = df[df['Price'] != \"Ask For Price\"]"
   ]
  },
  {
   "cell_type": "code",
   "execution_count": null,
   "id": "65e49192-1e6e-4de3-bbc4-7e5a0cc31318",
   "metadata": {},
   "outputs": [],
   "source": [
    "df['Price'] = df['Price'].str.replace(',','').astype(int)"
   ]
  },
  {
   "cell_type": "code",
   "execution_count": null,
   "id": "13f70918-e046-4ad9-93b4-348dbb49c5c7",
   "metadata": {},
   "outputs": [],
   "source": [
    "df['kms_driven'] = df['kms_driven'].str.split(' ').str.get(0).str.replace(',','')"
   ]
  },
  {
   "cell_type": "code",
   "execution_count": null,
   "id": "9cec2716-5cd1-4d07-8456-c40f7c687313",
   "metadata": {},
   "outputs": [],
   "source": [
    "df = df[df['kms_driven'].str.isnumeric()]"
   ]
  },
  {
   "cell_type": "code",
   "execution_count": null,
   "id": "a37d8f37-1a6d-4532-9af1-049d74a4fa69",
   "metadata": {},
   "outputs": [],
   "source": [
    "df['kms_driven'] = df['kms_driven'].astype(int)"
   ]
  },
  {
   "cell_type": "code",
   "execution_count": null,
   "id": "83171aac-079e-4675-9b46-f1dfdba3082c",
   "metadata": {},
   "outputs": [],
   "source": [
    "df = df[~df['fuel_type'].isnull()]"
   ]
  },
  {
   "cell_type": "code",
   "execution_count": null,
   "id": "8d54a0a6-b830-4341-8b17-da62d49db051",
   "metadata": {},
   "outputs": [],
   "source": [
    "df.info()"
   ]
  },
  {
   "cell_type": "code",
   "execution_count": null,
   "id": "d081b73e-5840-45c0-986c-0b29742dcff5",
   "metadata": {},
   "outputs": [],
   "source": [
    "df['name'] = df['name'].str.split(' ').str.slice(0,3).str.join(' ')"
   ]
  },
  {
   "cell_type": "code",
   "execution_count": null,
   "id": "ad4354d0-e26a-4877-856a-3332d26169e5",
   "metadata": {},
   "outputs": [],
   "source": [
    "df = df.reset_index(drop=True)"
   ]
  },
  {
   "cell_type": "code",
   "execution_count": null,
   "id": "da18374c-8c0c-47f1-8fe8-3dc1714ccd3d",
   "metadata": {},
   "outputs": [],
   "source": [
    "df.describe()"
   ]
  },
  {
   "cell_type": "code",
   "execution_count": null,
   "id": "f1cdb3a4-7cf4-42bc-b62e-e0471a815bb6",
   "metadata": {},
   "outputs": [],
   "source": [
    "df = df[df['Price'] < 6e6].reset_index(drop=True)"
   ]
  },
  {
   "cell_type": "code",
   "execution_count": null,
   "id": "e03107fc-0168-4c8e-9b69-51cfb974054b",
   "metadata": {},
   "outputs": [],
   "source": [
    "df.to_csv('cleaned.csv')"
   ]
  },
  {
   "cell_type": "code",
   "execution_count": null,
   "id": "a68e6667-cc5e-4689-ad3b-c9bdc7c9f366",
   "metadata": {},
   "outputs": [],
   "source": [
    "df.columns"
   ]
  },
  {
   "cell_type": "code",
   "execution_count": null,
   "id": "55a2b5d1-7c58-40d1-bb1c-0a630d54915c",
   "metadata": {},
   "outputs": [],
   "source": [
    "uniques = []\n",
    "list1 = ['name', 'company', 'year', 'Price', 'kms_driven', 'fuel_type']\n",
    "for i in list1:\n",
    "    unique = df[i].unique()\n",
    "    uniques.append(unique)"
   ]
  },
  {
   "cell_type": "code",
   "execution_count": null,
   "id": "520d72d0-03d6-4a55-b534-63dfb185b5ea",
   "metadata": {},
   "outputs": [],
   "source": [
    "unique_df = pd.DataFrame(uniques).T\n",
    "unique_df.columns = ['name', 'company', 'year', 'Price', 'kms_driven', 'fuel_type']"
   ]
  },
  {
   "cell_type": "code",
   "execution_count": null,
   "id": "76bae68b-f1be-44c4-a223-835e29be43c4",
   "metadata": {},
   "outputs": [],
   "source": [
    "unique_df.to_csv(\"unique_values.csv\", index=False)"
   ]
  },
  {
   "cell_type": "markdown",
   "id": "934a5e91-008a-46e0-9aa0-452a03d11c38",
   "metadata": {},
   "source": [
    "### **Create Model**"
   ]
  },
  {
   "cell_type": "code",
   "execution_count": null,
   "id": "967ce12f-5486-401e-bd85-1a2a57190c38",
   "metadata": {},
   "outputs": [],
   "source": [
    "X = df.drop(columns='Price')\n",
    "y = df['Price']"
   ]
  },
  {
   "cell_type": "code",
   "execution_count": null,
   "id": "253afebe-2f73-48a2-ab2d-ca420192a2ab",
   "metadata": {},
   "outputs": [],
   "source": [
    "from sklearn.model_selection import train_test_split"
   ]
  },
  {
   "cell_type": "code",
   "execution_count": null,
   "id": "200984a4-0b6e-4594-9f8c-2632856a76cc",
   "metadata": {},
   "outputs": [],
   "source": [
    "X_train, X_test, y_train, y_test = train_test_split(X, y, test_size=0.2)"
   ]
  },
  {
   "cell_type": "code",
   "execution_count": null,
   "id": "da5b77a2-0375-41aa-9541-e184e9082662",
   "metadata": {},
   "outputs": [],
   "source": [
    "from sklearn.linear_model import LinearRegression\n",
    "from sklearn.metrics import r2_score\n",
    "from sklearn.preprocessing import OneHotEncoder"
   ]
  },
  {
   "cell_type": "code",
   "execution_count": null,
   "id": "bc32a27a-3ec6-491d-af8a-b57b5788b13a",
   "metadata": {},
   "outputs": [],
   "source": [
    "encoder = OneHotEncoder()"
   ]
  },
  {
   "cell_type": "code",
   "execution_count": null,
   "id": "a11da1aa-10a9-4a97-982e-8c4430fde404",
   "metadata": {},
   "outputs": [],
   "source": [
    "encoder.fit(X[['name','company','fuel_type']])"
   ]
  },
  {
   "cell_type": "code",
   "execution_count": null,
   "id": "3fd28d3b-ae21-4696-8d1e-8828d792d02e",
   "metadata": {},
   "outputs": [],
   "source": [
    "from sklearn.compose import make_column_transformer\n",
    "from sklearn.pipeline import make_pipeline"
   ]
  },
  {
   "cell_type": "code",
   "execution_count": null,
   "id": "87de8ef1-4f29-4030-899a-522c5bb5f3f1",
   "metadata": {},
   "outputs": [],
   "source": [
    "column_trans = make_column_transformer((OneHotEncoder(handle_unknown='ignore'), ['name','company','fuel_type']),\n",
    "                                        remainder='passthrough')"
   ]
  },
  {
   "cell_type": "code",
   "execution_count": null,
   "id": "5c6a518c-f3b5-4d6e-8a9f-a8358f6d252e",
   "metadata": {},
   "outputs": [],
   "source": [
    "model = LinearRegression()"
   ]
  },
  {
   "cell_type": "code",
   "execution_count": null,
   "id": "39f0ba47-6b5c-475d-a5db-8f1016e68237",
   "metadata": {},
   "outputs": [],
   "source": [
    "pipe = make_pipeline(column_trans, model)"
   ]
  },
  {
   "cell_type": "code",
   "execution_count": null,
   "id": "475eb61b-f071-4f43-9e55-ebcaccdc7ff5",
   "metadata": {},
   "outputs": [],
   "source": [
    "pipe.fit(X_train, y_train)"
   ]
  },
  {
   "cell_type": "code",
   "execution_count": null,
   "id": "7cc8b2af-2b29-4fa0-a371-2876a9d6214e",
   "metadata": {},
   "outputs": [],
   "source": [
    "y_pred = pipe.predict(X_test)"
   ]
  },
  {
   "cell_type": "code",
   "execution_count": null,
   "id": "e43bab64-0f54-416f-93c6-927884dce78e",
   "metadata": {},
   "outputs": [],
   "source": [
    "r2_score(y_test, y_pred)"
   ]
  },
  {
   "cell_type": "code",
   "execution_count": null,
   "id": "c9a19f5d-253f-43d2-bc42-ad62eabb2a3a",
   "metadata": {},
   "outputs": [],
   "source": [
    "r2_max = 0\n",
    "best_i = 0\n",
    "for i in range(1000):\n",
    "    X_train, X_test, y_train, y_test = train_test_split(X, y, test_size=0.2, random_state=i)\n",
    "    model = LinearRegression()\n",
    "    pipe = make_pipeline(column_trans, model)\n",
    "    pipe.fit(X_train, y_train)\n",
    "    y_pred = pipe.predict(X_test)\n",
    "    r2 = r2_score(y_test, y_pred)\n",
    "    if r2 > r2_max:\n",
    "        r2_max = r2\n",
    "        best_i = i\n",
    "print(f\"Best R2 score: {r2_max} at random state: {best_i}\")"
   ]
  },
  {
   "cell_type": "code",
   "execution_count": null,
   "id": "05f6740a-0eae-4c63-8993-f77086e890af",
   "metadata": {},
   "outputs": [],
   "source": [
    "X_train, X_test, y_train, y_test = train_test_split(X, y, test_size=0.2, random_state=best_i)\n",
    "model = LinearRegression()\n",
    "pipe = make_pipeline(column_trans, model)\n",
    "pipe.fit(X_train, y_train)\n",
    "y_pred = pipe.predict(X_test)\n",
    "r2_score(y_test, y_pred)"
   ]
  },
  {
   "cell_type": "code",
   "execution_count": null,
   "id": "5a68b2e2-a4ea-4652-9887-15cd4e09d0d4",
   "metadata": {},
   "outputs": [],
   "source": [
    "import pickle"
   ]
  },
  {
   "cell_type": "code",
   "execution_count": null,
   "id": "a01a0c47-0ed9-4cdb-8133-9b2c84cf5ddd",
   "metadata": {},
   "outputs": [],
   "source": [
    "pickle.dump(pipe, open(\"LinearRegressionModel.pkl\", 'wb'))"
   ]
  },
  {
   "cell_type": "code",
   "execution_count": null,
   "id": "e30a045a-e660-4774-b369-ee4c2dfec20e",
   "metadata": {},
   "outputs": [],
   "source": [
    "new_data = pd.DataFrame({'name': ['Maruti Suzuki Swift'], 'company': ['Maruti'], 'year':[2019], 'kms_driven': [100], 'fuel_type': ['Petrol']})\n",
    "pipe.predict(new_data)"
   ]
  },
  {
   "cell_type": "code",
   "execution_count": null,
   "id": "240cf303-3fc0-449d-9b0f-df838af87b77",
   "metadata": {},
   "outputs": [],
   "source": []
  }
 ],
 "metadata": {
  "kernelspec": {
   "display_name": "Python 3 (ipykernel)",
   "language": "python",
   "name": "python3"
  },
  "language_info": {
   "codemirror_mode": {
    "name": "ipython",
    "version": 3
   },
   "file_extension": ".py",
   "mimetype": "text/x-python",
   "name": "python",
   "nbconvert_exporter": "python",
   "pygments_lexer": "ipython3",
   "version": "3.12.3"
  }
 },
 "nbformat": 4,
 "nbformat_minor": 5
}
