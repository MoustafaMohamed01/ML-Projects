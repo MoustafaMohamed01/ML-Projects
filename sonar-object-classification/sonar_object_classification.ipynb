{
 "cells": [
  {
   "cell_type": "code",
   "execution_count": null,
   "id": "4c98aaf1-4bde-4369-9eb3-b2a35eaba4fd",
   "metadata": {},
   "outputs": [],
   "source": [
    "import numpy as np\n",
    "import pandas as pd\n",
    "from sklearn.model_selection import train_test_split\n",
    "from sklearn.linear_model import LogisticRegression\n",
    "from sklearn.preprocessing import StandardScaler\n",
    "from sklearn.metrics import accuracy_score, classification_report, confusion_matrix"
   ]
  },
  {
   "cell_type": "code",
   "execution_count": null,
   "id": "ed4a53cf-3923-45ec-a939-3fdcf259e83f",
   "metadata": {},
   "outputs": [],
   "source": [
    "df = pd.read_csv('data/sonar.all-data', header=None)"
   ]
  },
  {
   "cell_type": "code",
   "execution_count": null,
   "id": "17b72a0b-ff66-4bb9-acf0-ad5f70b54594",
   "metadata": {},
   "outputs": [],
   "source": [
    "df.columns = [f'feature_{i}' for i in range(60)] + ['label']"
   ]
  },
  {
   "cell_type": "code",
   "execution_count": null,
   "id": "a10bbe55-0aa3-47d5-872e-9c31cde6b629",
   "metadata": {},
   "outputs": [],
   "source": [
    "import datacmp\n",
    "print(datacmp.get_detailed(df))"
   ]
  },
  {
   "cell_type": "code",
   "execution_count": null,
   "id": "a45c3b4c-929a-4fdb-bcdc-54636bff4d0d",
   "metadata": {},
   "outputs": [],
   "source": [
    "X = df.drop(columns='label', axis=1)\n",
    "y = df['label']"
   ]
  },
  {
   "cell_type": "code",
   "execution_count": null,
   "id": "c49fd14c-14ea-4569-81de-c054b25b47f8",
   "metadata": {},
   "outputs": [],
   "source": [
    "scaler = StandardScaler()\n",
    "X_scaled = scaler.fit_transform(X)"
   ]
  },
  {
   "cell_type": "code",
   "execution_count": null,
   "id": "c512d5cd-761d-4439-8804-e32d0c4af498",
   "metadata": {},
   "outputs": [],
   "source": [
    "X_train, X_test, y_train, y_test = train_test_split(X_scaled, y, test_size=0.1, stratify=y, random_state=1)"
   ]
  },
  {
   "cell_type": "code",
   "execution_count": null,
   "id": "45be1889-1cf7-40f4-8df2-d2f7b8d9f5c0",
   "metadata": {},
   "outputs": [],
   "source": [
    "model = LogisticRegression()\n",
    "model.fit(X_train, y_train)"
   ]
  },
  {
   "cell_type": "code",
   "execution_count": null,
   "id": "1268179e-b94b-4447-b9c7-90a280703fca",
   "metadata": {},
   "outputs": [],
   "source": [
    "X_train_pred = model.predict(X_train)\n",
    "accuracy_score(y_train, X_train_pred)"
   ]
  },
  {
   "cell_type": "code",
   "execution_count": null,
   "id": "8e30ce22-0309-41ee-ba21-662df58a1ec9",
   "metadata": {},
   "outputs": [],
   "source": [
    "X_test_pred = model.predict(X_test)\n",
    "accuracy_score(y_test, X_test_pred)"
   ]
  },
  {
   "cell_type": "code",
   "execution_count": null,
   "id": "a24d1633-389f-442c-885f-e2cd2b21fc7d",
   "metadata": {},
   "outputs": [],
   "source": [
    "print(classification_report(y_test, X_test_pred))\n",
    "confusion_matrix(y_test, X_test_pred)"
   ]
  },
  {
   "cell_type": "code",
   "execution_count": null,
   "id": "4acbe55f-302c-4d34-b559-a7bd107a81a0",
   "metadata": {},
   "outputs": [],
   "source": [
    "input_data = (\n",
    "    0.0453, 0.0523, 0.0843, 0.0689, 0.1183, 0.2583, 0.2156, 0.3481, 0.3337, 0.2872,\n",
    "    0.4918, 0.6552, 0.6919, 0.7797, 0.7464, 0.9444, 1.0000, 0.8874, 0.8024, 0.7818,\n",
    "    0.5212, 0.4052, 0.3957, 0.3914, 0.3250, 0.3200, 0.3271, 0.2767, 0.4423, 0.2028,\n",
    "    0.3788, 0.2947, 0.1984, 0.2341, 0.1306, 0.4182, 0.3835, 0.1057, 0.1840, 0.1970,\n",
    "    0.1674, 0.0583, 0.1401, 0.1628, 0.0621, 0.0203, 0.0530, 0.0742, 0.0409, 0.0061,\n",
    "    0.0125, 0.0084, 0.0089, 0.0048, 0.0094, 0.0191, 0.0140, 0.0049, 0.0052, 0.0044\n",
    ")"
   ]
  },
  {
   "cell_type": "code",
   "execution_count": null,
   "id": "ce9fba38-e4b2-450d-9e59-0607b88c69c3",
   "metadata": {},
   "outputs": [],
   "source": [
    "input_data_as_numpy = np.asarray(input_data).reshape(1, -1)\n",
    "input_data_scaled = scaler.transform(input_data_as_numpy)"
   ]
  },
  {
   "cell_type": "code",
   "execution_count": null,
   "id": "6c108daf-fd81-420d-87a2-76f3fc5442cf",
   "metadata": {},
   "outputs": [],
   "source": [
    "prediction = model.predict(input_data_scaled)\n",
    "print(f\"The object is a {'Rock' if prediction[0] == 'R' else 'Mine'}\")"
   ]
  },
  {
   "cell_type": "code",
   "execution_count": null,
   "id": "12bf2321-d010-4f8b-b3a9-6d764b8c8c62",
   "metadata": {},
   "outputs": [],
   "source": []
  }
 ],
 "metadata": {
  "kernelspec": {
   "display_name": "Python 3 (ipykernel)",
   "language": "python",
   "name": "python3"
  },
  "language_info": {
   "codemirror_mode": {
    "name": "ipython",
    "version": 3
   },
   "file_extension": ".py",
   "mimetype": "text/x-python",
   "name": "python",
   "nbconvert_exporter": "python",
   "pygments_lexer": "ipython3",
   "version": "3.12.3"
  }
 },
 "nbformat": 4,
 "nbformat_minor": 5
}
