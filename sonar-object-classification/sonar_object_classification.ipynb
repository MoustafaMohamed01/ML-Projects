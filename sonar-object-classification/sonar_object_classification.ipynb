{
 "cells": [
  {
   "cell_type": "code",
   "execution_count": null,
   "id": "5c9c6130",
   "metadata": {
    "papermill": {
     "duration": 3.709813,
     "end_time": "2025-07-31T12:25:14.587261",
     "exception": false,
     "start_time": "2025-07-31T12:25:10.877448",
     "status": "completed"
    },
    "tags": []
   },
   "outputs": [],
   "source": [
    "import numpy as np\n",
    "import pandas as pd\n",
    "import matplotlib.pyplot as plt\n",
    "import seaborn as sns\n",
    "from sklearn.model_selection import train_test_split\n",
    "from sklearn.preprocessing import StandardScaler\n",
    "from sklearn.metrics import accuracy_score, classification_report, confusion_matrix\n",
    "from sklearn.linear_model import LogisticRegression\n",
    "from sklearn.neighbors import KNeighborsClassifier\n",
    "from sklearn.svm import SVC\n",
    "from sklearn.ensemble import RandomForestClassifier, GradientBoostingClassifier\n",
    "from sklearn.naive_bayes import GaussianNB\n",
    "from sklearn.tree import DecisionTreeClassifier\n",
    "from sklearn.decomposition import PCA"
   ]
  },
  {
   "cell_type": "code",
   "execution_count": null,
   "id": "8923d645",
   "metadata": {
    "papermill": {
     "duration": 0.029522,
     "end_time": "2025-07-31T12:25:14.629825",
     "exception": false,
     "start_time": "2025-07-31T12:25:14.600303",
     "status": "completed"
    },
    "tags": []
   },
   "outputs": [],
   "source": [
    "df = pd.read_csv('sonar data.csv', header=None)"
   ]
  },
  {
   "cell_type": "code",
   "execution_count": null,
   "id": "be4209b5",
   "metadata": {
    "papermill": {
     "duration": 0.030176,
     "end_time": "2025-07-31T12:25:14.664217",
     "exception": false,
     "start_time": "2025-07-31T12:25:14.634041",
     "status": "completed"
    },
    "tags": []
   },
   "outputs": [],
   "source": [
    "df.info()"
   ]
  },
  {
   "cell_type": "code",
   "execution_count": null,
   "id": "7d623714",
   "metadata": {
    "papermill": {
     "duration": 0.009763,
     "end_time": "2025-07-31T12:25:14.678618",
     "exception": false,
     "start_time": "2025-07-31T12:25:14.668855",
     "status": "completed"
    },
    "tags": []
   },
   "outputs": [],
   "source": [
    "df.columns = [f'feature_{i}' for i in range(60)] + ['label']"
   ]
  },
  {
   "cell_type": "code",
   "execution_count": null,
   "id": "a756d1ef",
   "metadata": {
    "papermill": {
     "duration": 0.009238,
     "end_time": "2025-07-31T12:25:14.700882",
     "exception": false,
     "start_time": "2025-07-31T12:25:14.691644",
     "status": "completed"
    },
    "tags": []
   },
   "outputs": [],
   "source": [
    "plt.style.use('dark_background')\n",
    "neon_colors = ['#08F7FE', '#FE53BB', '#F5D300', '#00ff41']"
   ]
  },
  {
   "cell_type": "code",
   "execution_count": null,
   "id": "5f0280b9",
   "metadata": {
    "papermill": {
     "duration": 0.224983,
     "end_time": "2025-07-31T12:25:14.930056",
     "exception": false,
     "start_time": "2025-07-31T12:25:14.705073",
     "status": "completed"
    },
    "tags": []
   },
   "outputs": [],
   "source": [
    "plt.figure(figsize=(6, 4))\n",
    "sns.countplot(x='label', data=df, palette=neon_colors)\n",
    "plt.title(\"Class Distribution\", fontsize=14, color='#F5D300')\n",
    "plt.xlabel(\"Label\", fontsize=12)\n",
    "plt.ylabel(\"Count\", fontsize=12)\n",
    "plt.grid(True, linestyle='--', alpha=0.3)\n",
    "plt.savefig(\"graphs/class_distribution.png\", dpi=300, bbox_inches='tight')\n",
    "plt.show()"
   ]
  },
  {
   "cell_type": "code",
   "execution_count": null,
   "id": "9b8584a8",
   "metadata": {
    "papermill": {
     "duration": 0.691728,
     "end_time": "2025-07-31T12:25:15.626747",
     "exception": false,
     "start_time": "2025-07-31T12:25:14.935019",
     "status": "completed"
    },
    "tags": []
   },
   "outputs": [],
   "source": [
    "plt.figure(figsize=(18, 10))\n",
    "correlation = df.drop(columns='label').corr()\n",
    "sns.heatmap(correlation, cmap='viridis', center=0, square=True, linewidths=0.05, linecolor='black', cbar_kws={\"shrink\": 0.5})\n",
    "plt.title(\"Feature Correlation Heatmap\", fontsize=14, color='#08F7FE')\n",
    "plt.savefig(\"graphs/feature_correlation_heatmap.png\", dpi=300, bbox_inches='tight')\n",
    "plt.show()"
   ]
  },
  {
   "cell_type": "code",
   "execution_count": null,
   "id": "6eb10fa9",
   "metadata": {
    "papermill": {
     "duration": 0.207293,
     "end_time": "2025-07-31T12:25:15.841083",
     "exception": false,
     "start_time": "2025-07-31T12:25:15.633790",
     "status": "completed"
    },
    "tags": []
   },
   "outputs": [],
   "source": [
    "variances = df.drop(columns='label').var().sort_values(ascending=False)\n",
    "top10_features = variances.head(10).index\n",
    "plt.figure(figsize=(8, 5))\n",
    "sns.barplot(x=variances[top10_features].values, y=top10_features, palette=neon_colors)\n",
    "plt.title(\"Top 10 Features by Variance\", fontsize=14, color='#FE53BB')\n",
    "plt.xlabel(\"Variance\", fontsize=12)\n",
    "plt.ylabel(\"Feature\", fontsize=12)\n",
    "plt.grid(True, linestyle='--', alpha=0.2)\n",
    "plt.savefig(\"graphs/top10_feature_variance.png\", dpi=300, bbox_inches='tight')\n",
    "plt.show()"
   ]
  },
  {
   "cell_type": "code",
   "execution_count": null,
   "id": "6c0ae277",
   "metadata": {
    "papermill": {
     "duration": 0.344278,
     "end_time": "2025-07-31T12:25:16.193147",
     "exception": false,
     "start_time": "2025-07-31T12:25:15.848869",
     "status": "completed"
    },
    "tags": []
   },
   "outputs": [],
   "source": [
    "X = df.drop(columns='label')\n",
    "y = df['label']\n",
    "scaler = StandardScaler()\n",
    "X_scaled = scaler.fit_transform(X)\n",
    "\n",
    "pca = PCA(n_components=2)\n",
    "X_pca = pca.fit_transform(X_scaled)\n",
    "pca_df = pd.DataFrame(data=X_pca, columns=['PC1', 'PC2'])\n",
    "pca_df['label'] = y\n",
    "\n",
    "plt.figure(figsize=(8, 6))\n",
    "sns.scatterplot(data=pca_df, x='PC1', y='PC2', hue='label', palette=neon_colors[:2], alpha=0.7, s=80, edgecolor='white', linewidth=0.4)\n",
    "plt.title(\"PCA Projection (2D)\", fontsize=14, color='#00ff41')\n",
    "plt.legend(title='Label')\n",
    "plt.grid(True, linestyle=':', alpha=0.2)\n",
    "plt.savefig(\"graphs/pca_projection_2d.png\", dpi=300, bbox_inches='tight')\n",
    "plt.show()"
   ]
  },
  {
   "cell_type": "code",
   "execution_count": null,
   "id": "0cef3050",
   "metadata": {
    "papermill": {
     "duration": 0.557581,
     "end_time": "2025-07-31T12:25:16.761697",
     "exception": false,
     "start_time": "2025-07-31T12:25:16.204116",
     "status": "completed"
    },
    "tags": []
   },
   "outputs": [],
   "source": [
    "key_features = ['feature_0', 'feature_1', 'feature_5', 'feature_10']\n",
    "plt.figure(figsize=(12, 8))\n",
    "for i, feat in enumerate(key_features, 1):\n",
    "    plt.subplot(2, 2, i)\n",
    "    sns.boxplot(x='label', y=feat, data=df, palette=neon_colors)\n",
    "    plt.title(f\"{feat} by Label\", fontsize=12, color='#F5D300')\n",
    "    plt.xlabel(\"\")\n",
    "    plt.ylabel(\"\")\n",
    "    plt.grid(True, linestyle='--', alpha=0.3)\n",
    "plt.suptitle(\"Key Feature Distributions by Class\", fontsize=15, color='#FE53BB')\n",
    "plt.tight_layout()\n",
    "plt.savefig(\"graphs/key_features_boxplot.png\", dpi=300, bbox_inches='tight')\n",
    "plt.show()"
   ]
  },
  {
   "cell_type": "code",
   "execution_count": null,
   "id": "fa80de17",
   "metadata": {
    "papermill": {
     "duration": 0.016117,
     "end_time": "2025-07-31T12:25:16.810237",
     "exception": false,
     "start_time": "2025-07-31T12:25:16.794120",
     "status": "completed"
    },
    "tags": []
   },
   "outputs": [],
   "source": [
    "X = df.drop(columns='label')\n",
    "y = df['label']"
   ]
  },
  {
   "cell_type": "code",
   "execution_count": null,
   "id": "5374b2b9",
   "metadata": {
    "papermill": {
     "duration": 0.018752,
     "end_time": "2025-07-31T12:25:16.838903",
     "exception": false,
     "start_time": "2025-07-31T12:25:16.820151",
     "status": "completed"
    },
    "tags": []
   },
   "outputs": [],
   "source": [
    "scaler = StandardScaler()\n",
    "X_scaled = scaler.fit_transform(X)"
   ]
  },
  {
   "cell_type": "code",
   "execution_count": null,
   "id": "e9a9252d",
   "metadata": {
    "papermill": {
     "duration": 0.016655,
     "end_time": "2025-07-31T12:25:16.865567",
     "exception": false,
     "start_time": "2025-07-31T12:25:16.848912",
     "status": "completed"
    },
    "tags": []
   },
   "outputs": [],
   "source": [
    "X_train, X_test, y_train, y_test = train_test_split(X_scaled, y, test_size=0.1, stratify=y, random_state=1)"
   ]
  },
  {
   "cell_type": "code",
   "execution_count": null,
   "id": "e3733364",
   "metadata": {
    "papermill": {
     "duration": 0.014671,
     "end_time": "2025-07-31T12:25:16.890128",
     "exception": false,
     "start_time": "2025-07-31T12:25:16.875457",
     "status": "completed"
    },
    "tags": []
   },
   "outputs": [],
   "source": [
    "models = {\n",
    "    \"Logistic Regression\": LogisticRegression(),\n",
    "    \"K-Nearest Neighbors\": KNeighborsClassifier(),\n",
    "    \"Support Vector Machine\": SVC(),\n",
    "    \"Random Forest\": RandomForestClassifier(),\n",
    "    \"Gradient Boosting\": GradientBoostingClassifier(),\n",
    "    \"Naive Bayes\": GaussianNB(),\n",
    "    \"Decision Tree\": DecisionTreeClassifier()\n",
    "}"
   ]
  },
  {
   "cell_type": "code",
   "execution_count": null,
   "id": "9d48ca9f",
   "metadata": {
    "papermill": {
     "duration": 0.01452,
     "end_time": "2025-07-31T12:25:16.914378",
     "exception": false,
     "start_time": "2025-07-31T12:25:16.899858",
     "status": "completed"
    },
    "tags": []
   },
   "outputs": [],
   "source": [
    "best_model = None\n",
    "best_accuracy = 0"
   ]
  },
  {
   "cell_type": "code",
   "execution_count": null,
   "id": "753447a1",
   "metadata": {
    "papermill": {
     "duration": 0.763525,
     "end_time": "2025-07-31T12:25:17.687768",
     "exception": false,
     "start_time": "2025-07-31T12:25:16.924243",
     "status": "completed"
    },
    "tags": []
   },
   "outputs": [],
   "source": [
    "for name, model in models.items():\n",
    "    model.fit(X_train, y_train)\n",
    "    y_pred = model.predict(X_test)\n",
    "    accuracy = accuracy_score(y_test, y_pred)\n",
    "    print(f\"{name} Accuracy: {accuracy:.4f}\")\n",
    "    \n",
    "    if accuracy > best_accuracy:\n",
    "        best_accuracy = accuracy\n",
    "        best_model = model"
   ]
  },
  {
   "cell_type": "code",
   "execution_count": null,
   "id": "72281c77",
   "metadata": {
    "papermill": {
     "duration": 0.0153,
     "end_time": "2025-07-31T12:25:17.732878",
     "exception": false,
     "start_time": "2025-07-31T12:25:17.717578",
     "status": "completed"
    },
    "tags": []
   },
   "outputs": [],
   "source": [
    "print(\"\\nBest Model:\", best_model.__class__.__name__)"
   ]
  },
  {
   "cell_type": "code",
   "execution_count": null,
   "id": "76c3f7f2",
   "metadata": {
    "papermill": {
     "duration": 0.025274,
     "end_time": "2025-07-31T12:25:17.768105",
     "exception": false,
     "start_time": "2025-07-31T12:25:17.742831",
     "status": "completed"
    },
    "tags": []
   },
   "outputs": [],
   "source": [
    "print(classification_report(y_test, best_model.predict(X_test)))"
   ]
  },
  {
   "cell_type": "code",
   "execution_count": null,
   "id": "b3bc5dbd",
   "metadata": {
    "papermill": {
     "duration": 0.023636,
     "end_time": "2025-07-31T12:25:17.803713",
     "exception": false,
     "start_time": "2025-07-31T12:25:17.780077",
     "status": "completed"
    },
    "tags": []
   },
   "outputs": [],
   "source": [
    "print(confusion_matrix(y_test, best_model.predict(X_test)))"
   ]
  },
  {
   "cell_type": "code",
   "execution_count": null,
   "id": "d0fba6da",
   "metadata": {
    "papermill": {
     "duration": 0.018373,
     "end_time": "2025-07-31T12:25:17.833435",
     "exception": false,
     "start_time": "2025-07-31T12:25:17.815062",
     "status": "completed"
    },
    "tags": []
   },
   "outputs": [],
   "source": [
    "y_best_pred = best_model.predict(X_test)"
   ]
  },
  {
   "cell_type": "code",
   "execution_count": null,
   "id": "c2072805",
   "metadata": {
    "papermill": {
     "duration": 0.016414,
     "end_time": "2025-07-31T12:25:17.862604",
     "exception": false,
     "start_time": "2025-07-31T12:25:17.846190",
     "status": "completed"
    },
    "tags": []
   },
   "outputs": [],
   "source": [
    "print(\"Accuracy:\", accuracy_score(y_test, y_best_pred))"
   ]
  },
  {
   "cell_type": "code",
   "execution_count": null,
   "id": "385921b2",
   "metadata": {
    "papermill": {
     "duration": 0.022576,
     "end_time": "2025-07-31T12:25:17.895632",
     "exception": false,
     "start_time": "2025-07-31T12:25:17.873056",
     "status": "completed"
    },
    "tags": []
   },
   "outputs": [],
   "source": [
    "print(\"Classification Report:\\n\", classification_report(y_test, y_best_pred))"
   ]
  },
  {
   "cell_type": "code",
   "execution_count": null,
   "id": "fd1bab0c",
   "metadata": {
    "papermill": {
     "duration": 0.017137,
     "end_time": "2025-07-31T12:25:17.922916",
     "exception": false,
     "start_time": "2025-07-31T12:25:17.905779",
     "status": "completed"
    },
    "tags": []
   },
   "outputs": [],
   "source": [
    "print(\"Confusion Matrix:\\n\", confusion_matrix(y_test, y_best_pred))"
   ]
  },
  {
   "cell_type": "code",
   "execution_count": null,
   "id": "d8410e3d",
   "metadata": {
    "papermill": {
     "duration": 0.016278,
     "end_time": "2025-07-31T12:25:17.970231",
     "exception": false,
     "start_time": "2025-07-31T12:25:17.953953",
     "status": "completed"
    },
    "tags": []
   },
   "outputs": [],
   "source": [
    "input_data = (\n",
    "    0.0453, 0.0523, 0.0843, 0.0689, 0.1183, 0.2583, 0.2156, 0.3481, 0.3337, 0.2872,\n",
    "    0.4918, 0.6552, 0.6919, 0.7797, 0.7464, 0.9444, 1.0000, 0.8874, 0.8024, 0.7818,\n",
    "    0.5212, 0.4052, 0.3957, 0.3914, 0.3250, 0.3200, 0.3271, 0.2767, 0.4423, 0.2028,\n",
    "    0.3788, 0.2947, 0.1984, 0.2341, 0.1306, 0.4182, 0.3835, 0.1057, 0.1840, 0.1970,\n",
    "    0.1674, 0.0583, 0.1401, 0.1628, 0.0621, 0.0203, 0.0530, 0.0742, 0.0409, 0.0061,\n",
    "    0.0125, 0.0084, 0.0089, 0.0048, 0.0094, 0.0191, 0.0140, 0.0049, 0.0052, 0.0044\n",
    ")"
   ]
  },
  {
   "cell_type": "code",
   "execution_count": null,
   "id": "1bc649fc",
   "metadata": {
    "papermill": {
     "duration": 0.017081,
     "end_time": "2025-07-31T12:25:17.997471",
     "exception": false,
     "start_time": "2025-07-31T12:25:17.980390",
     "status": "completed"
    },
    "tags": []
   },
   "outputs": [],
   "source": [
    "input_data_np = np.asarray(input_data).reshape(1, -1)\n",
    "input_data_scaled = scaler.transform(input_data_np)\n",
    "prediction = best_model.predict(input_data_scaled)"
   ]
  },
  {
   "cell_type": "code",
   "execution_count": null,
   "id": "97637e60",
   "metadata": {
    "papermill": {
     "duration": 0.015754,
     "end_time": "2025-07-31T12:25:18.099344",
     "exception": false,
     "start_time": "2025-07-31T12:25:18.083590",
     "status": "completed"
    },
    "tags": []
   },
   "outputs": [],
   "source": [
    "print(f\"\\nPrediction for the input data: {'Rock' if prediction[0] == 'R' else 'Mine'}\")"
   ]
  },
  {
   "cell_type": "code",
   "execution_count": null,
   "id": "5fb2a6be-d7ca-496f-9dc8-b94d4555bdf3",
   "metadata": {},
   "outputs": [],
   "source": []
  }
 ],
 "metadata": {
  "kaggle": {
   "accelerator": "nvidiaTeslaT4",
   "dataSources": [
    {
     "datasetId": 4729000,
     "sourceId": 8024617,
     "sourceType": "datasetVersion"
    }
   ],
   "dockerImageVersionId": 31012,
   "isGpuEnabled": true,
   "isInternetEnabled": true,
   "language": "python",
   "sourceType": "notebook"
  },
  "kernelspec": {
   "display_name": "Python 3 (ipykernel)",
   "language": "python",
   "name": "python3"
  },
  "language_info": {
   "codemirror_mode": {
    "name": "ipython",
    "version": 3
   },
   "file_extension": ".py",
   "mimetype": "text/x-python",
   "name": "python",
   "nbconvert_exporter": "python",
   "pygments_lexer": "ipython3",
   "version": "3.12.3"
  },
  "papermill": {
   "default_parameters": {},
   "duration": 12.228591,
   "end_time": "2025-07-31T12:25:18.647309",
   "environment_variables": {},
   "exception": null,
   "input_path": "__notebook__.ipynb",
   "output_path": "__notebook__.ipynb",
   "parameters": {},
   "start_time": "2025-07-31T12:25:06.418718",
   "version": "2.6.0"
  }
 },
 "nbformat": 4,
 "nbformat_minor": 5
}
