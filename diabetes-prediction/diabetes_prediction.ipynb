{
 "cells": [
  {
   "cell_type": "code",
   "execution_count": null,
   "id": "ad390d40-f75a-45d3-9bf3-d06e61fb002c",
   "metadata": {},
   "outputs": [],
   "source": [
    "import numpy as np\n",
    "import pandas as pd\n",
    "import seaborn as sns\n",
    "import matplotlib.pyplot as plt\n",
    "from sklearn.model_selection import train_test_split\n",
    "from sklearn.preprocessing import StandardScaler\n",
    "from sklearn.linear_model import LogisticRegression\n",
    "from sklearn import svm\n",
    "from sklearn.tree import DecisionTreeClassifier\n",
    "from sklearn.ensemble import RandomForestClassifier, GradientBoostingClassifier\n",
    "from sklearn.metrics import accuracy_score, confusion_matrix, classification_report"
   ]
  },
  {
   "cell_type": "code",
   "execution_count": null,
   "id": "9795f3e0-b756-4051-b08a-1da0e37a3f44",
   "metadata": {},
   "outputs": [],
   "source": [
    "df = pd.read_csv('data/diabetes.csv')\n",
    "df.head()"
   ]
  },
  {
   "cell_type": "code",
   "execution_count": null,
   "id": "4d5ba102-9767-4332-92c4-fb96d79c56a0",
   "metadata": {},
   "outputs": [],
   "source": [
    "df.shape"
   ]
  },
  {
   "cell_type": "code",
   "execution_count": null,
   "id": "d2f6e945-d4b7-4c75-8c4c-25a6ad1067bf",
   "metadata": {},
   "outputs": [],
   "source": [
    "df.describe()"
   ]
  },
  {
   "cell_type": "code",
   "execution_count": null,
   "id": "d49e29ca-4fee-468d-8b96-ac3a60f31d2f",
   "metadata": {},
   "outputs": [],
   "source": [
    "df['Outcome'].value_counts()"
   ]
  },
  {
   "cell_type": "code",
   "execution_count": null,
   "id": "174be571-3861-4512-b234-41d5b2b3b8d2",
   "metadata": {},
   "outputs": [],
   "source": [
    "df.groupby('Outcome').mean()"
   ]
  },
  {
   "cell_type": "code",
   "execution_count": null,
   "id": "3d2d1086-4e0f-4edd-a01f-da1f46e98ee1",
   "metadata": {},
   "outputs": [],
   "source": [
    "(df[['Glucose', 'BloodPressure', 'SkinThickness', 'Insulin', 'BMI']]==0).sum()"
   ]
  },
  {
   "cell_type": "code",
   "execution_count": null,
   "id": "1cf4e6f5-1018-45e3-944e-70563e31b35a",
   "metadata": {},
   "outputs": [],
   "source": [
    "invalid_cols = ['Glucose', 'BloodPressure', 'SkinThickness', 'Insulin', 'BMI']\n",
    "df[invalid_cols] = df[invalid_cols].replace(0, np.nan)\n",
    "df[invalid_cols] = df[invalid_cols].fillna(df[invalid_cols].median())"
   ]
  },
  {
   "cell_type": "code",
   "execution_count": null,
   "id": "122c14d2-d88e-4be6-b027-67fbb58cb737",
   "metadata": {},
   "outputs": [],
   "source": [
    "plt.style.use('dark_background')\n",
    "plt.figure(figsize=(6, 4))\n",
    "\n",
    "countplot = sns.countplot(x='Outcome', data=df, palette='Set2')\n",
    "countplot.set_title('Distribution of Diabetes Outcomes', fontsize=16, color='white')\n",
    "countplot.set_xlabel('Diabetes (0 = No, 1 = Yes)', fontsize=12, color='white')\n",
    "countplot.set_ylabel('Count', fontsize=12, color='white')\n",
    "\n",
    "plt.savefig('images/diabetes_countplot.png', dpi=300, bbox_inches='tight')\n",
    "\n",
    "plt.show()"
   ]
  },
  {
   "cell_type": "code",
   "execution_count": null,
   "id": "d6c58b23-5a8b-4317-905f-5e0344b1b0a3",
   "metadata": {},
   "outputs": [],
   "source": [
    "plt.style.use('dark_background')\n",
    "\n",
    "cols = ['Pregnancies', 'Glucose', 'BloodPressure', 'SkinThickness', 'Insulin',\n",
    "        'BMI', 'DiabetesPedigreeFunction', 'Age']\n",
    "\n",
    "plot = sns.pairplot(df[cols + ['Outcome']], hue='Outcome', palette='coolwarm', diag_kind='kde')\n",
    "plot.fig.suptitle('Pairplot of Diabetes Features', fontsize=16, color='white')\n",
    "plot.fig.tight_layout()\n",
    "plot.fig.subplots_adjust(top=0.95)\n",
    "\n",
    "plot.savefig(\"images/diabetes_pairplot.png\", dpi=300, bbox_inches='tight')\n",
    "plt.show()"
   ]
  },
  {
   "cell_type": "code",
   "execution_count": null,
   "id": "c350bb2a-690b-456b-a32d-ed599f308598",
   "metadata": {},
   "outputs": [],
   "source": [
    "plt.style.use('dark_background')\n",
    "\n",
    "plt.figure(figsize=(15, 6))\n",
    "\n",
    "heatmap = sns.heatmap(df.corr(), annot=True, fmt=\".2f\", cmap='coolwarm',\n",
    "          annot_kws={\"color\": \"white\"}, linewidths=0.5, linecolor='black')\n",
    "plt.title('Feature Correlation Heatmap', fontsize=16, color='white')\n",
    "\n",
    "plt.savefig(\"images/diabetes_heatmap.png\", dpi=300, bbox_inches='tight')\n",
    "plt.show()"
   ]
  },
  {
   "cell_type": "code",
   "execution_count": null,
   "id": "dee184ba-f7cb-4a9b-95a4-441c26ff39e7",
   "metadata": {},
   "outputs": [],
   "source": [
    "X = df.drop(columns='Outcome')\n",
    "y = df['Outcome']"
   ]
  },
  {
   "cell_type": "code",
   "execution_count": null,
   "id": "672607ea-bc6c-4238-8950-ba21d480c047",
   "metadata": {},
   "outputs": [],
   "source": [
    "X_train, X_test, y_train, y_test = train_test_split(X, y, test_size=0.2, stratify=y, random_state=2)"
   ]
  },
  {
   "cell_type": "code",
   "execution_count": null,
   "id": "1708a64f-f129-4ffb-bf1d-0660c64d5602",
   "metadata": {},
   "outputs": [],
   "source": [
    "scaler = StandardScaler()"
   ]
  },
  {
   "cell_type": "code",
   "execution_count": null,
   "id": "59c50653-6763-4e80-85ba-5444a7610950",
   "metadata": {},
   "outputs": [],
   "source": [
    "X_train = scaler.fit_transform(X_train)\n",
    "X_test = scaler.transform(X_test)"
   ]
  },
  {
   "cell_type": "code",
   "execution_count": null,
   "id": "a90191e8-ccd2-4a8b-aaa9-c3ac44044ced",
   "metadata": {},
   "outputs": [],
   "source": [
    "models = {\n",
    "    \"SVM (Linear)\": svm.SVC(kernel='linear'),\n",
    "    \"Logistic Regression\": LogisticRegression(),\n",
    "    \"Decision Tree\": DecisionTreeClassifier(),\n",
    "    \"Random Forest\": RandomForestClassifier(),\n",
    "}\n",
    "\n",
    "for name, clf in models.items():\n",
    "    clf.fit(X_train, y_train)\n",
    "    preds = clf.predict(X_test)\n",
    "    acc = accuracy_score(y_test, preds)\n",
    "    print(f\"{name} Accuracy: {acc:.4f}\")"
   ]
  },
  {
   "cell_type": "code",
   "execution_count": null,
   "id": "094cf618-8942-417e-9a59-e0116b74395f",
   "metadata": {},
   "outputs": [],
   "source": [
    "model = svm.SVC(kernel='linear')\n",
    "model.fit(X_train, y_train)"
   ]
  },
  {
   "cell_type": "code",
   "execution_count": null,
   "id": "0600d561-8bb1-4a89-8c11-91eb95b0784a",
   "metadata": {},
   "outputs": [],
   "source": [
    "train_pred = model.predict(X_train)\n",
    "test_pred = model.predict(X_test)"
   ]
  },
  {
   "cell_type": "code",
   "execution_count": null,
   "id": "6a498bc1-c553-4613-ba51-96a267384829",
   "metadata": {},
   "outputs": [],
   "source": [
    "print(\"Train Accuracy:\", accuracy_score(y_train, train_pred))\n",
    "print(\"Test Accuracy :\", accuracy_score(y_test, test_pred))"
   ]
  },
  {
   "cell_type": "code",
   "execution_count": null,
   "id": "c7c6a6d0-c3f0-4548-a4c2-4aafbe81849d",
   "metadata": {},
   "outputs": [],
   "source": [
    "print(\"Confusion Matrix:\\n\", confusion_matrix(y_test, test_pred))\n",
    "print(\"Classification Report:\", classification_report(y_test, test_pred))"
   ]
  },
  {
   "cell_type": "code",
   "execution_count": null,
   "id": "374fd078-1426-4540-85bd-52fd981d9ee6",
   "metadata": {},
   "outputs": [],
   "source": [
    "input_data = (1, 189, 40, 27, 846, 30.1, 0.398, 59)\n",
    "input_np = np.asarray(input_data).reshape(1, -1)\n",
    "input_scaled = scaler.transform(input_np)\n",
    "prediction = model.predict(input_scaled)[0]\n",
    "\n",
    "if prediction == 0:\n",
    "    print('The person does NOT have diabetes.')\n",
    "else:\n",
    "    print('The person HAS diabetes.')"
   ]
  },
  {
   "cell_type": "code",
   "execution_count": null,
   "id": "6c21ebf3-ee29-4251-9f14-738dc2b62a3d",
   "metadata": {},
   "outputs": [],
   "source": []
  }
 ],
 "metadata": {
  "kernelspec": {
   "display_name": "Python 3 (ipykernel)",
   "language": "python",
   "name": "python3"
  },
  "language_info": {
   "codemirror_mode": {
    "name": "ipython",
    "version": 3
   },
   "file_extension": ".py",
   "mimetype": "text/x-python",
   "name": "python",
   "nbconvert_exporter": "python",
   "pygments_lexer": "ipython3",
   "version": "3.12.3"
  }
 },
 "nbformat": 4,
 "nbformat_minor": 5
}
