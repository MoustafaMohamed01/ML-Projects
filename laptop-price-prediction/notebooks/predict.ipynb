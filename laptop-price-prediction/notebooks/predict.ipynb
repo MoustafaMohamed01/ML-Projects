{
 "cells": [
  {
   "cell_type": "code",
   "execution_count": null,
   "id": "bbf70e35-13cd-4f21-871e-5464adb7bda3",
   "metadata": {},
   "outputs": [],
   "source": [
    "import joblib\n",
    "import numpy as np\n",
    "import pandas as pd"
   ]
  },
  {
   "cell_type": "code",
   "execution_count": null,
   "id": "7c936933-9f9d-456a-bddb-b70416a63c2e",
   "metadata": {},
   "outputs": [],
   "source": [
    "model = joblib.load('best_laptop_price_model.pkl')"
   ]
  },
  {
   "cell_type": "code",
   "execution_count": null,
   "id": "7a41d254-ae6f-4775-9a90-921c80271d89",
   "metadata": {},
   "outputs": [],
   "source": [
    "sample = pd.DataFrame([{\n",
    "    'Company': 'Dell',\n",
    "    'TypeName': 'Notebook',\n",
    "    'Ram': 8,\n",
    "    'Weight': 1.8,\n",
    "    'TouchScreen': 0,\n",
    "    'IPS': 1,\n",
    "    'ppi': 141.21,\n",
    "    'CpuBrand': 'Intel Core i5',\n",
    "    'SSD': 512,\n",
    "    'HDD': 0,\n",
    "    'GpuBrand': 'Intel',\n",
    "    'os': 'Windows 10'\n",
    "}])"
   ]
  },
  {
   "cell_type": "code",
   "execution_count": null,
   "id": "8f649a3b-6ab8-4ea2-b928-874a83f2868f",
   "metadata": {},
   "outputs": [],
   "source": [
    "log_price = model.predict(sample)[0]\n",
    "predicted_price = np.exp(log_price)\n",
    "\n",
    "print(f\"Predicted Laptop Price: ${predicted_price:.2f}\")"
   ]
  },
  {
   "cell_type": "code",
   "execution_count": null,
   "id": "21d08b2a-63af-4abe-b71a-fd86920b6059",
   "metadata": {},
   "outputs": [],
   "source": []
  }
 ],
 "metadata": {
  "kernelspec": {
   "display_name": "Python 3 (ipykernel)",
   "language": "python",
   "name": "python3"
  },
  "language_info": {
   "codemirror_mode": {
    "name": "ipython",
    "version": 3
   },
   "file_extension": ".py",
   "mimetype": "text/x-python",
   "name": "python",
   "nbconvert_exporter": "python",
   "pygments_lexer": "ipython3",
   "version": "3.12.3"
  }
 },
 "nbformat": 4,
 "nbformat_minor": 5
}
