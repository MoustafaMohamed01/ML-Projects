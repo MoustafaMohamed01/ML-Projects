{
 "cells": [
  {
   "cell_type": "code",
   "execution_count": 10,
   "id": "dcbfc3cb-6ef3-4e4f-b6d6-c718f10092f5",
   "metadata": {},
   "outputs": [],
   "source": [
    "import numpy as np\n",
    "import pandas as pd\n",
    "import datacmp\n",
    "from sklearn.model_selection import train_test_split\n",
    "from sklearn.compose import ColumnTransformer\n",
    "from sklearn.pipeline import Pipeline\n",
    "from sklearn.linear_model import LinearRegression, Ridge, Lasso\n",
    "from sklearn.neighbors import KNeighborsRegressor\n",
    "from sklearn.tree import DecisionTreeRegressor\n",
    "from sklearn.ensemble import RandomForestRegressor, GradientBoostingRegressor, AdaBoostRegressor, ExtraTreesRegressor\n",
    "from sklearn.svm import SVR\n",
    "from xgboost import XGBRegressor\n",
    "from sklearn.preprocessing import OneHotEncoder, StandardScaler\n",
    "from sklearn.metrics import r2_score, mean_absolute_error, mean_squared_error\n",
    "import joblib"
   ]
  },
  {
   "cell_type": "code",
   "execution_count": 11,
   "id": "56d87cc2-a0a2-434d-95e0-162e9f90ffe7",
   "metadata": {},
   "outputs": [
    {
     "data": {
      "text/html": [
       "<div>\n",
       "<style scoped>\n",
       "    .dataframe tbody tr th:only-of-type {\n",
       "        vertical-align: middle;\n",
       "    }\n",
       "\n",
       "    .dataframe tbody tr th {\n",
       "        vertical-align: top;\n",
       "    }\n",
       "\n",
       "    .dataframe thead th {\n",
       "        text-align: right;\n",
       "    }\n",
       "</style>\n",
       "<table border=\"1\" class=\"dataframe\">\n",
       "  <thead>\n",
       "    <tr style=\"text-align: right;\">\n",
       "      <th></th>\n",
       "      <th>Company</th>\n",
       "      <th>TypeName</th>\n",
       "      <th>Ram</th>\n",
       "      <th>Weight</th>\n",
       "      <th>Price</th>\n",
       "      <th>TouchScreen</th>\n",
       "      <th>IPS</th>\n",
       "      <th>ppi</th>\n",
       "      <th>CpuBrand</th>\n",
       "      <th>SSD</th>\n",
       "      <th>HDD</th>\n",
       "      <th>GpuBrand</th>\n",
       "      <th>os</th>\n",
       "    </tr>\n",
       "  </thead>\n",
       "  <tbody>\n",
       "    <tr>\n",
       "      <th>0</th>\n",
       "      <td>Apple</td>\n",
       "      <td>Ultrabook</td>\n",
       "      <td>8</td>\n",
       "      <td>1.37</td>\n",
       "      <td>856.544198</td>\n",
       "      <td>0</td>\n",
       "      <td>1</td>\n",
       "      <td>226.983005</td>\n",
       "      <td>Intel Core i5</td>\n",
       "      <td>128</td>\n",
       "      <td>0</td>\n",
       "      <td>Intel</td>\n",
       "      <td>macOS</td>\n",
       "    </tr>\n",
       "    <tr>\n",
       "      <th>1</th>\n",
       "      <td>Apple</td>\n",
       "      <td>Ultrabook</td>\n",
       "      <td>8</td>\n",
       "      <td>1.34</td>\n",
       "      <td>574.746278</td>\n",
       "      <td>0</td>\n",
       "      <td>0</td>\n",
       "      <td>127.677940</td>\n",
       "      <td>Intel Core i5</td>\n",
       "      <td>0</td>\n",
       "      <td>0</td>\n",
       "      <td>Intel</td>\n",
       "      <td>macOS</td>\n",
       "    </tr>\n",
       "    <tr>\n",
       "      <th>2</th>\n",
       "      <td>HP</td>\n",
       "      <td>Notebook</td>\n",
       "      <td>8</td>\n",
       "      <td>1.86</td>\n",
       "      <td>367.632000</td>\n",
       "      <td>0</td>\n",
       "      <td>0</td>\n",
       "      <td>141.211998</td>\n",
       "      <td>Intel Core i5</td>\n",
       "      <td>256</td>\n",
       "      <td>0</td>\n",
       "      <td>Intel</td>\n",
       "      <td>No OS</td>\n",
       "    </tr>\n",
       "    <tr>\n",
       "      <th>3</th>\n",
       "      <td>Apple</td>\n",
       "      <td>Ultrabook</td>\n",
       "      <td>16</td>\n",
       "      <td>1.83</td>\n",
       "      <td>1622.344032</td>\n",
       "      <td>0</td>\n",
       "      <td>1</td>\n",
       "      <td>220.534624</td>\n",
       "      <td>Intel Core i7</td>\n",
       "      <td>512</td>\n",
       "      <td>0</td>\n",
       "      <td>AMD</td>\n",
       "      <td>macOS</td>\n",
       "    </tr>\n",
       "    <tr>\n",
       "      <th>4</th>\n",
       "      <td>Apple</td>\n",
       "      <td>Ultrabook</td>\n",
       "      <td>8</td>\n",
       "      <td>1.37</td>\n",
       "      <td>1153.149696</td>\n",
       "      <td>0</td>\n",
       "      <td>1</td>\n",
       "      <td>226.983005</td>\n",
       "      <td>Intel Core i5</td>\n",
       "      <td>256</td>\n",
       "      <td>0</td>\n",
       "      <td>Intel</td>\n",
       "      <td>macOS</td>\n",
       "    </tr>\n",
       "  </tbody>\n",
       "</table>\n",
       "</div>"
      ],
      "text/plain": [
       "  Company   TypeName  Ram  Weight        Price  TouchScreen  IPS         ppi  \\\n",
       "0   Apple  Ultrabook    8    1.37   856.544198            0    1  226.983005   \n",
       "1   Apple  Ultrabook    8    1.34   574.746278            0    0  127.677940   \n",
       "2      HP   Notebook    8    1.86   367.632000            0    0  141.211998   \n",
       "3   Apple  Ultrabook   16    1.83  1622.344032            0    1  220.534624   \n",
       "4   Apple  Ultrabook    8    1.37  1153.149696            0    1  226.983005   \n",
       "\n",
       "        CpuBrand  SSD  HDD GpuBrand     os  \n",
       "0  Intel Core i5  128    0    Intel  macOS  \n",
       "1  Intel Core i5    0    0    Intel  macOS  \n",
       "2  Intel Core i5  256    0    Intel  No OS  \n",
       "3  Intel Core i7  512    0      AMD  macOS  \n",
       "4  Intel Core i5  256    0    Intel  macOS  "
      ]
     },
     "execution_count": 11,
     "metadata": {},
     "output_type": "execute_result"
    }
   ],
   "source": [
    "df = pd.read_csv('cleaned_laptop_data.csv')\n",
    "df.head()"
   ]
  },
  {
   "cell_type": "code",
   "execution_count": 12,
   "id": "53d7a429-0ebe-4876-89e4-b5642ec69ad4",
   "metadata": {},
   "outputs": [
    {
     "name": "stdout",
     "output_type": "stream",
     "text": [
      "╭────────────────┬──────────╮\n",
      "│ Info           │   Values │\n",
      "├────────────────┼──────────┤\n",
      "│ Number of Rows │     1302 │\n",
      "│ Number of Rows │       13 │\n",
      "╰────────────────┴──────────╯\n",
      "\n",
      "╭───────────────┬─────────┬────────┬────────────┬────────┬──────────────╮\n",
      "│ Column Name   │ Dtype   │   Null │   Not Null │ Mean   │   Unique Val │\n",
      "├───────────────┼─────────┼────────┼────────────┼────────┼──────────────┤\n",
      "│ Company       │ object  │      0 │       1302 │ -      │           19 │\n",
      "│ TypeName      │ object  │      0 │       1302 │ -      │            6 │\n",
      "│ Ram           │ int64   │      0 │       1302 │ 8.39   │            9 │\n",
      "│ Weight        │ float64 │      0 │       1302 │ 2.04   │          171 │\n",
      "│ Price         │ float64 │      0 │       1302 │ 718.67 │          791 │\n",
      "│ TouchScreen   │ int64   │      0 │       1302 │ 0.15   │            2 │\n",
      "│ IPS           │ int64   │      0 │       1302 │ 0.28   │            2 │\n",
      "│ ppi           │ float64 │      0 │       1302 │ 146.57 │           39 │\n",
      "│ CpuBrand      │ object  │      0 │       1302 │ -      │            5 │\n",
      "│ SSD           │ int64   │      0 │       1302 │ 184.17 │           12 │\n",
      "│ HDD           │ int64   │      0 │       1302 │ 422.8  │            6 │\n",
      "│ GpuBrand      │ object  │      0 │       1302 │ -      │            3 │\n",
      "│ os            │ object  │      0 │       1302 │ -      │            6 │\n",
      "╰───────────────┴─────────┴────────┴────────────┴────────┴──────────────╯\n"
     ]
    }
   ],
   "source": [
    "print(datacmp.get_detailed(df))"
   ]
  },
  {
   "cell_type": "code",
   "execution_count": 13,
   "id": "d3c4a6d2-121e-4295-b070-097879922cfd",
   "metadata": {},
   "outputs": [],
   "source": [
    "X = df.drop(columns=['Price'])\n",
    "y = np.log(df['Price'])"
   ]
  },
  {
   "cell_type": "code",
   "execution_count": 14,
   "id": "2973d8ec-daa9-496d-89da-f41af990d055",
   "metadata": {},
   "outputs": [],
   "source": [
    "X_train, X_test, y_train, y_test = train_test_split(X, y, test_size=0.2, random_state=2)"
   ]
  },
  {
   "cell_type": "code",
   "execution_count": 15,
   "id": "f34ceb2c-7a5c-4f7e-a622-be630128311b",
   "metadata": {},
   "outputs": [],
   "source": [
    "categorical_cols = X.select_dtypes(include='object').columns.tolist()\n",
    "numerical_cols = X.select_dtypes(exclude='object').columns.tolist()"
   ]
  },
  {
   "cell_type": "code",
   "execution_count": 16,
   "id": "f6246a13-1efb-45fa-adcf-237c88aadb2a",
   "metadata": {},
   "outputs": [],
   "source": [
    "preprocessor = ColumnTransformer(\n",
    "    [\n",
    "        ('onehot', OneHotEncoder(handle_unknown='ignore'), categorical_cols),\n",
    "        ('scale', StandardScaler(), numerical_cols)\n",
    "    ]\n",
    ")"
   ]
  },
  {
   "cell_type": "code",
   "execution_count": 17,
   "id": "4ae5165a-9f90-4773-be80-72c6a7beb301",
   "metadata": {},
   "outputs": [],
   "source": [
    "models = {\n",
    "    'Linear Regression': LinearRegression(),\n",
    "    'Ridge': Ridge(),\n",
    "    'Lasso': Lasso(),\n",
    "    'KNN': KNeighborsRegressor(),\n",
    "    'Decision Tree': DecisionTreeRegressor(),\n",
    "    'Random Forest': RandomForestRegressor(),\n",
    "    'Gradient Boosting': GradientBoostingRegressor(),\n",
    "    'AdaBoost': AdaBoostRegressor(),\n",
    "    'Extra Trees': ExtraTreesRegressor(),\n",
    "    'SVR': SVR(),\n",
    "    'XGBoost': XGBRegressor()\n",
    "}"
   ]
  },
  {
   "cell_type": "code",
   "execution_count": 18,
   "id": "7dcdf539-30ca-4b51-b828-c58ba342e4cc",
   "metadata": {},
   "outputs": [],
   "source": [
    "results = []\n",
    "\n",
    "for name, model in models.items():\n",
    "    pipe = Pipeline(\n",
    "        [\n",
    "            ('preprocessing', preprocessor),\n",
    "            ('regressor', model)\n",
    "        ]\n",
    "    )\n",
    "    pipe.fit(X_train, y_train)\n",
    "    y_pred = pipe.predict(X_test)\n",
    "\n",
    "    r2 = r2_score(y_test, y_pred)\n",
    "    mae = mean_absolute_error(y_test, y_pred)\n",
    "    rmse = np.sqrt(mean_squared_error(y_test, y_pred))\n",
    "    \n",
    "    results.append(\n",
    "        {\n",
    "            'Model': name,\n",
    "            'R2 Score': r2,\n",
    "            'MAE': mae,\n",
    "            'RMSE': rmse\n",
    "        }\n",
    "    )"
   ]
  },
  {
   "cell_type": "code",
   "execution_count": 19,
   "id": "d00aa871-9e46-4250-9c5c-d24b36082c97",
   "metadata": {},
   "outputs": [
    {
     "name": "stdout",
     "output_type": "stream",
     "text": [
      "                Model  R2 Score       MAE      RMSE\n",
      "0                 SVR  0.869619  0.161823  0.215333\n",
      "1   Gradient Boosting  0.866289  0.169706  0.218066\n",
      "2       Random Forest  0.858915  0.167180  0.223998\n",
      "3             XGBoost  0.843280  0.163305  0.236084\n",
      "4                 KNN  0.842075  0.176776  0.236990\n",
      "5         Extra Trees  0.838304  0.172347  0.239802\n",
      "6               Ridge  0.804242  0.201909  0.263854\n",
      "7   Linear Regression  0.800634  0.203649  0.266274\n",
      "8            AdaBoost  0.798471  0.216411  0.267715\n",
      "9       Decision Tree  0.770134  0.207237  0.285918\n",
      "10              Lasso -0.000876  0.481091  0.596614\n"
     ]
    }
   ],
   "source": [
    "results_df = pd.DataFrame(results)\n",
    "results_df = results_df.sort_values(by='R2 Score', ascending=False).reset_index(drop=True)\n",
    "print(results_df)"
   ]
  },
  {
   "cell_type": "code",
   "execution_count": 20,
   "id": "dc223b04-728a-46ca-9e74-dca9d1174281",
   "metadata": {},
   "outputs": [
    {
     "name": "stdout",
     "output_type": "stream",
     "text": [
      "Model saved as 'best_laptop_price_model.pkl'\n"
     ]
    }
   ],
   "source": [
    "best_model = Pipeline([\n",
    "    ('preprocessing', preprocessor),\n",
    "    ('regressor', SVR())\n",
    "])\n",
    "\n",
    "best_model.fit(X, y)\n",
    "\n",
    "joblib.dump(best_model, 'best_laptop_price_model.pkl')\n",
    "\n",
    "print(\"Model saved as 'best_laptop_price_model.pkl'\")"
   ]
  },
  {
   "cell_type": "code",
   "execution_count": null,
   "id": "880a3f94-6e0d-4b5a-a1a7-0f9ba49fae75",
   "metadata": {},
   "outputs": [],
   "source": []
  }
 ],
 "metadata": {
  "kernelspec": {
   "display_name": "Python 3 (ipykernel)",
   "language": "python",
   "name": "python3"
  },
  "language_info": {
   "codemirror_mode": {
    "name": "ipython",
    "version": 3
   },
   "file_extension": ".py",
   "mimetype": "text/x-python",
   "name": "python",
   "nbconvert_exporter": "python",
   "pygments_lexer": "ipython3",
   "version": "3.12.3"
  }
 },
 "nbformat": 4,
 "nbformat_minor": 5
}
