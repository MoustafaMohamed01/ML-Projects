{
 "cells": [
  {
   "cell_type": "code",
   "execution_count": null,
   "id": "2d8d842e-93fa-4249-a601-65a3fbf13633",
   "metadata": {},
   "outputs": [],
   "source": [
    "import os\n",
    "import numpy as np\n",
    "import pandas as pd\n",
    "import seaborn as sns\n",
    "import matplotlib.pyplot as plt\n",
    "from sklearn.model_selection import train_test_split\n",
    "from sklearn.ensemble import RandomForestClassifier\n",
    "from sklearn.linear_model import LogisticRegression\n",
    "from sklearn.svm import SVC\n",
    "from sklearn.metrics import accuracy_score"
   ]
  },
  {
   "cell_type": "code",
   "execution_count": null,
   "id": "cb98060e-6a5e-448a-95e5-0097cb4bceed",
   "metadata": {},
   "outputs": [],
   "source": [
    "def set_dark_style():\n",
    "    plt.style.use('dark_background')\n",
    "\n",
    "    plt.rcParams.update({\n",
    "        'axes.labelcolor': 'cyan',\n",
    "        'xtick.color': 'cyan',\n",
    "        'ytick.color': 'cyan',\n",
    "        'text.color': 'cyan',\n",
    "        'figure.facecolor': '#121212',\n",
    "        'axes.facecolor': '#121212',\n",
    "        'grid.color': 'gray',\n",
    "        'grid.linestyle': '--',\n",
    "        'grid.alpha': 0.4,\n",
    "        'font.family': 'sans-serif'\n",
    "    })"
   ]
  },
  {
   "cell_type": "code",
   "execution_count": null,
   "id": "0941419a-7d23-4a76-aeb1-d93f04900ba6",
   "metadata": {},
   "outputs": [],
   "source": [
    "def ensure_images_folder():\n",
    "    if not os.path.exists('images'):\n",
    "        os.makedirs('images')"
   ]
  },
  {
   "cell_type": "code",
   "execution_count": null,
   "id": "aaa32174-da63-4f8d-b9da-0b867a6e7146",
   "metadata": {},
   "outputs": [],
   "source": [
    "def load_data(filepath: str):\n",
    "    df = pd.read_csv(filepath)\n",
    "    return df"
   ]
  },
  {
   "cell_type": "code",
   "execution_count": null,
   "id": "1d79f4b6-e044-49ec-960a-4579681f3431",
   "metadata": {},
   "outputs": [],
   "source": [
    "def explore_data(df: pd.DataFrame):\n",
    "    print(\"First 5 rows:\")\n",
    "    print(df.head())\n",
    "\n",
    "    print(\"\\nDataframe Info:\")\n",
    "    print(df.info())\n",
    "\n",
    "    print(\"\\nSummary Statistics:\")\n",
    "    print(df.describe())\n",
    "\n",
    "    print(\"\\nMissing values per column:\")\n",
    "    print(df.isnull().sum())\n",
    "\n",
    "    print(\"\\nColumn names:\")\n",
    "    print(df.columns)\n",
    "\n",
    "    set_dark_style()\n",
    "    ensure_images_folder()\n",
    "\n",
    "    plt.figure(dpi=300)\n",
    "    sns.countplot(x='quality', data=df, palette='coolwarm')\n",
    "    plt.title('Distribution of Wine Quality', fontsize=14, color='#00FFCC')\n",
    "    plt.xlabel('Quality')\n",
    "    plt.ylabel('Count')\n",
    "    plt.grid(True)\n",
    "    plt.tight_layout()\n",
    "    plt.savefig('images/quality_distribution.png', dpi=300)\n",
    "    plt.show()\n",
    "\n",
    "    plt.figure(figsize=(8, 6), dpi=300)\n",
    "    corr = df.corr()\n",
    "    sns.heatmap(\n",
    "        corr,\n",
    "        annot=True,\n",
    "        fmt=\".2f\",\n",
    "        cmap='coolwarm',\n",
    "        square=True,\n",
    "        linewidths=1,\n",
    "        linecolor='#00FFCC',\n",
    "        vmin=-1,\n",
    "        vmax=1,\n",
    "        center=0,\n",
    "        annot_kws={'color': '#00FFCC'}\n",
    "    )\n",
    "    plt.title('Feature Correlation Heatmap', fontsize=14, color='#00FFCC')\n",
    "    plt.tight_layout()\n",
    "    plt.savefig('images/correlation_heatmap.png', dpi=300)\n",
    "    plt.show()"
   ]
  },
  {
   "cell_type": "code",
   "execution_count": null,
   "id": "f33d3b71-7427-4550-97fa-93f81d017d0a",
   "metadata": {},
   "outputs": [],
   "source": [
    "def prepare_data(df: pd.DataFrame):\n",
    "    X = df.drop('quality', axis=1)\n",
    "    y = df['quality'].apply(lambda q: 1 if q >= 7 else 0)\n",
    "    print(\"\\nTarget classes and counts:\")\n",
    "    print(y.value_counts())\n",
    "    return X, y"
   ]
  },
  {
   "cell_type": "code",
   "execution_count": null,
   "id": "a1c9f6a5-e2b4-458a-b0d7-3b6fab67bb32",
   "metadata": {},
   "outputs": [],
   "source": [
    "def split_data(X, y, test_size=0.2, random_state=2):\n",
    "    return train_test_split(X, y, test_size=test_size, random_state=random_state)"
   ]
  },
  {
   "cell_type": "code",
   "execution_count": null,
   "id": "edaea926-7d81-4b81-a252-6f717a736406",
   "metadata": {},
   "outputs": [],
   "source": [
    "def train_model(model, X_train, y_train):\n",
    "    model.fit(X_train, y_train)\n",
    "    return model"
   ]
  },
  {
   "cell_type": "code",
   "execution_count": null,
   "id": "9222d2a3-0e07-46cf-9aad-d8cbd470319c",
   "metadata": {},
   "outputs": [],
   "source": [
    "def evaluate_model(model, X_test, y_test):\n",
    "    y_pred = model.predict(X_test)\n",
    "    acc = accuracy_score(y_test, y_pred)\n",
    "    return acc"
   ]
  },
  {
   "cell_type": "code",
   "execution_count": null,
   "id": "15eaee78-697b-4af4-9b6f-c07babb3d391",
   "metadata": {},
   "outputs": [],
   "source": [
    "def plot_model_accuracies(model_accuracies):\n",
    "    set_dark_style()\n",
    "    ensure_images_folder()\n",
    "    plt.figure(figsize=(8, 5), dpi=300)\n",
    "    names = list(model_accuracies.keys())\n",
    "    accuracies = list(model_accuracies.values())\n",
    "\n",
    "    bars = plt.bar(names, accuracies, color='#00FFCC', edgecolor='#00FFCC', alpha=0.8)\n",
    "    plt.ylim(0, 1)\n",
    "    plt.ylabel('Accuracy', fontsize=12, color='#00FFCC')\n",
    "    plt.title('Model Accuracy Comparison', fontsize=14, color='#00FFCC')\n",
    "\n",
    "    for bar, acc in zip(bars, accuracies):\n",
    "        height = bar.get_height()\n",
    "        plt.text(bar.get_x() + bar.get_width()/2, height - 0.07, f'{acc:.3f}',\n",
    "                 ha='center', color='#121212', fontsize=11, fontweight='bold')\n",
    "\n",
    "    plt.grid(axis='y', linestyle='--', alpha=0.3, color='#00FFCC')\n",
    "    plt.tight_layout()\n",
    "    plt.savefig('images/model_accuracy_comparison.png', dpi=300)\n",
    "    plt.show()"
   ]
  },
  {
   "cell_type": "code",
   "execution_count": null,
   "id": "b9b2de0e-2b62-4039-9355-f580e4a7eeaa",
   "metadata": {},
   "outputs": [],
   "source": [
    "def compare_models_with_plot(X_train, X_test, y_train, y_test):\n",
    "    models = {\n",
    "        'Random Forest': RandomForestClassifier(random_state=2),\n",
    "        'Logistic Regression': LogisticRegression(max_iter=500, random_state=2),\n",
    "        'SVM (RBF Kernel)': SVC(kernel='rbf', random_state=2)\n",
    "    }\n",
    "\n",
    "    model_accuracies = {}\n",
    "    best_acc = 0\n",
    "    best_model = None\n",
    "    best_name = ''\n",
    "\n",
    "    for name, model in models.items():\n",
    "        print(f\"Training {name}...\")\n",
    "        model.fit(X_train, y_train)\n",
    "        y_pred = model.predict(X_test)\n",
    "        acc = accuracy_score(y_test, y_pred)\n",
    "        print(f\"{name} accuracy: {acc:.4f}\")\n",
    "        model_accuracies[name] = acc\n",
    "        if acc > best_acc:\n",
    "            best_acc = acc\n",
    "            best_model = model\n",
    "            best_name = name\n",
    "\n",
    "    plot_model_accuracies(model_accuracies)\n",
    "\n",
    "    print(f\"\\nBest model: {best_name} with accuracy {best_acc:.4f}\")\n",
    "    return best_model, best_name, best_acc"
   ]
  },
  {
   "cell_type": "code",
   "execution_count": null,
   "id": "e4bc1aeb-7041-4159-a7ef-5230fdb39421",
   "metadata": {},
   "outputs": [],
   "source": [
    "def predict_quality(model, input_data):\n",
    "    input_array = np.asarray(input_data).reshape(1, -1)\n",
    "    prediction = model.predict(input_array)\n",
    "    print(f\"\\nPrediction for input data: {prediction[0]}\")\n",
    "    if prediction[0] == 1:\n",
    "        print(\"Result: Good Quality Wine\")\n",
    "    else:\n",
    "        print(\"Result: Bad Quality Wine\")"
   ]
  },
  {
   "cell_type": "code",
   "execution_count": null,
   "id": "39fb672f-089d-42a7-8427-880ce6669d90",
   "metadata": {},
   "outputs": [],
   "source": [
    "df = load_data('winequality-red.csv')\n",
    "explore_data(df)"
   ]
  },
  {
   "cell_type": "code",
   "execution_count": null,
   "id": "ff50f1f6-6834-45fd-8b25-c9b1c94c3a76",
   "metadata": {},
   "outputs": [],
   "source": [
    "X, y = prepare_data(df)"
   ]
  },
  {
   "cell_type": "code",
   "execution_count": null,
   "id": "9b045683-c025-4a76-bb32-5d390b8c3a65",
   "metadata": {},
   "outputs": [],
   "source": [
    "X_train, X_test, y_train, y_test = split_data(X, y)"
   ]
  },
  {
   "cell_type": "code",
   "execution_count": null,
   "id": "0d2c67d8-ac6d-41f9-bb50-c6e8b0b5e495",
   "metadata": {},
   "outputs": [],
   "source": [
    "best_model, best_name, best_acc = compare_models_with_plot(X_train, X_test, y_train, y_test)"
   ]
  },
  {
   "cell_type": "code",
   "execution_count": null,
   "id": "f55c7c49-d628-4fbf-993a-97fce3405c70",
   "metadata": {},
   "outputs": [],
   "source": [
    "sample_input = (7.4, 0.7, 0.0, 1.9, 0.076, 11.0, 34.0, 0.9978, 3.51, 0.56, 9.4)\n",
    "predict_quality(best_model, sample_input)"
   ]
  },
  {
   "cell_type": "code",
   "execution_count": null,
   "id": "9ee9e9fe-0a2d-4f2f-bd37-aa9cb8e82694",
   "metadata": {},
   "outputs": [],
   "source": []
  }
 ],
 "metadata": {
  "kernelspec": {
   "display_name": "Python 3 (ipykernel)",
   "language": "python",
   "name": "python3"
  },
  "language_info": {
   "codemirror_mode": {
    "name": "ipython",
    "version": 3
   },
   "file_extension": ".py",
   "mimetype": "text/x-python",
   "name": "python",
   "nbconvert_exporter": "python",
   "pygments_lexer": "ipython3",
   "version": "3.12.3"
  }
 },
 "nbformat": 4,
 "nbformat_minor": 5
}
